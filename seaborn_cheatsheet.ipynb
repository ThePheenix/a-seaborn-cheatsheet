{
 "cells": [
  {
   "cell_type": "code",
   "execution_count": 5,
   "id": "94ae3f8c",
   "metadata": {},
   "outputs": [],
   "source": [
    "import pandas as pd\n",
    "import matplotlib.pyplot as plt\n",
    "from matplotlib.backends.backend_pdf import PdfPages\n",
    "\n",
    "# Create the cheat sheet DataFrame\n",
    "plot_cheatsheet_en = pd.DataFrame({\n",
    "   \"Plot\": [\n",
    "       \"histplot\", \"kdeplot\", \"boxplot\", \"violinplot\",\n",
    "       \"scatterplot\", \"lmplot\", \"jointplot\", \"pairplot\",\n",
    "       \"countplot\", \"barplot\", \"pointplot\", \"stripplot\", \"swarmplot\",\n",
    "       \"lineplot\", \"heatmap\", \"clustermap\"\n",
    "   ],\n",
    "   \"Category\": [\n",
    "       \"Distribution\", \"Distribution\", \"Distribution\", \"Distribution\",\n",
    "       \"Relationship\", \"Relationship\", \"Relationship\", \"Relationship\",\n",
    "       \"Categorical\", \"Categorical\", \"Categorical\", \"Categorical\", \"Categorical\",\n",
    "       \"Time/Trend\", \"Matrix\", \"Matrix + Clustering\"\n",
    "   ],\n",
    "   \"Description\": [\n",
    "       \"Histogram for numeric distribution\",\n",
    "       \"Smoothed density function (KDE)\",\n",
    "       \"Boxplot showing median, IQR & whiskers\",\n",
    "       \"Boxplot with KDE-style density\",\n",
    "       \"Scatter for two numeric variables\",\n",
    "       \"Scatterplot with regression line and CI\",\n",
    "       \"Scatter with marginal distributions\",\n",
    "       \"Matrix of scatterplots + histograms\",\n",
    "       \"Bar chart for category counts\",\n",
    "       \"Category means + CI bars\",\n",
    "       \"Mean values with lines per group\",\n",
    "       \"Raw data points in categories (with jitter)\",\n",
    "       \"Like stripplot, but no overlap\",\n",
    "       \"Line plot for trends or time series\",\n",
    "       \"Color-coded matrix, e.g. correlations\",\n",
    "       \"Heatmap with hierarchical clustering\"\n",
    "   ]\n",
    "})\n",
    "\n",
    "# Export to PDF\n",
    "with PdfPages(\"Seaborn_CheatSheet_EN.pdf\") as pdf:\n",
    "    fig, ax = plt.subplots(figsize=(12, 6))\n",
    "    ax.axis('tight')\n",
    "    ax.axis('off')\n",
    "    table = ax.table(cellText=plot_cheatsheet_en.values,\n",
    "                     colLabels=plot_cheatsheet_en.columns,\n",
    "                     cellLoc='left',\n",
    "                    loc='center')\n",
    "    table.auto_set_font_size(False)\n",
    "    table.set_fontsize(10)\n",
    "    table.scale(1.2, 1.5)\n",
    "    plt.title(\"Seaborn Plot Cheat Sheet (English)\", fontsize=14, weight='bold')\n",
    "    pdf.savefig(fig)\n",
    "    plt.close()"
   ]
  },
  {
   "cell_type": "code",
   "execution_count": null,
   "id": "eb09fb79",
   "metadata": {},
   "outputs": [],
   "source": []
  }
 ],
 "metadata": {
  "kernelspec": {
   "display_name": "Python 3 (ipykernel)",
   "language": "python",
   "name": "python3"
  },
  "language_info": {
   "codemirror_mode": {
    "name": "ipython",
    "version": 3
   },
   "file_extension": ".py",
   "mimetype": "text/x-python",
   "name": "python",
   "nbconvert_exporter": "python",
   "pygments_lexer": "ipython3",
   "version": "3.11.11"
  }
 },
 "nbformat": 4,
 "nbformat_minor": 5
}
